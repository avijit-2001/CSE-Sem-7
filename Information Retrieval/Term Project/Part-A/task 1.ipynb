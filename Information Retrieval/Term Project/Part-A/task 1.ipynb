{
 "cells": [
  {
   "cell_type": "code",
   "execution_count": 1,
   "id": "9e80fdee",
   "metadata": {},
   "outputs": [],
   "source": [
    "import os\n",
    "import nltk\n",
    "from nltk import pos_tag\n",
    "from nltk.corpus import stopwords\n",
    "from nltk.stem import WordNetLemmatizer\n",
    "from nltk.corpus import wordnet\n",
    "from nltk.tokenize import RegexpTokenizer\n",
    "from nltk.tokenize import word_tokenize\n",
    "import pickle"
   ]
  },
  {
   "cell_type": "code",
   "execution_count": 2,
   "id": "723f6ae7",
   "metadata": {},
   "outputs": [],
   "source": [
    "PATH = os.getcwd()\n",
    "PATH_DATA = PATH + '/data'\n",
    "PATH_DATA_en_BDNEWS24 = PATH + '/data/en_BDNEWS24'"
   ]
  },
  {
   "cell_type": "code",
   "execution_count": 3,
   "id": "4a374a0e",
   "metadata": {},
   "outputs": [
    {
     "name": "stderr",
     "output_type": "stream",
     "text": [
      "[nltk_data] Downloading package stopwords to\n",
      "[nltk_data]     /Users/avijitmandal/nltk_data...\n",
      "[nltk_data]   Unzipping corpora/stopwords.zip.\n",
      "[nltk_data] Downloading package punkt to\n",
      "[nltk_data]     /Users/avijitmandal/nltk_data...\n",
      "[nltk_data]   Package punkt is already up-to-date!\n",
      "[nltk_data] Downloading package wordnet to\n",
      "[nltk_data]     /Users/avijitmandal/nltk_data...\n",
      "[nltk_data]   Package wordnet is already up-to-date!\n"
     ]
    },
    {
     "data": {
      "text/plain": [
       "True"
      ]
     },
     "execution_count": 3,
     "metadata": {},
     "output_type": "execute_result"
    }
   ],
   "source": [
    "nltk.download('stopwords')\n",
    "nltk.download('punkt')\n",
    "nltk.download('wordnet')"
   ]
  },
  {
   "cell_type": "code",
   "execution_count": 4,
   "id": "ec267de1",
   "metadata": {},
   "outputs": [],
   "source": [
    "stop_words = list(stopwords.words('english'))\n",
    "lemmatizer = WordNetLemmatizer()\n",
    "\n",
    "def rem_stop_words(text):\n",
    "    tokens = word_tokenize(text)\n",
    "    tokens_filtered= [word for word in tokens if not word in stop_words]\n",
    "    return (\" \").join(tokens_filtered)\n",
    "\n",
    "def rem_punctions(text):\n",
    "    tokenizer = RegexpTokenizer(r'\\w+')\n",
    "    tokens=tokenizer.tokenize(text)\n",
    "    return (\" \").join(tokens)\n",
    "\n",
    "def lemma(text):\n",
    "    tokens=word_tokenize(text)\n",
    "    afterlemmatize = [lemmatizer.lemmatize(word.lower()) for word in tokens ]\n",
    "    return (\" \").join(afterlemmatize)"
   ]
  },
  {
   "cell_type": "code",
   "execution_count": 5,
   "id": "706714ec",
   "metadata": {},
   "outputs": [],
   "source": [
    "def modify_list(posting_list):\n",
    "    n = len(posting_list)\n",
    "    count = 1\n",
    "    res = []\n",
    "    if n == 0:\n",
    "        return res\n",
    "    for i in range(1,n):\n",
    "        if posting_list[i] == posting_list[i-1]:\n",
    "            count += 1\n",
    "        else:\n",
    "            res.append((posting_list[i-1], count))\n",
    "            count = 1\n",
    "            \n",
    "    res.append((posting_list[n-1], count))\n",
    "    \n",
    "    return res"
   ]
  },
  {
   "cell_type": "code",
   "execution_count": 11,
   "id": "16973147",
   "metadata": {},
   "outputs": [],
   "source": [
    "def get_inverted_index():\n",
    "    \n",
    "    os.chdir(PATH_DATA_en_BDNEWS24)\n",
    "\n",
    "    inverted_index = {}\n",
    "    for dirname in os.listdir(os.getcwd()):\n",
    "        \n",
    "        for filename in os.listdir(os.path.join(os.getcwd(),dirname)):\n",
    "            with open(os.path.join(os.path.join(os.getcwd(), dirname),filename), 'r') as f:\n",
    "                s = f.read()\n",
    "                s = s.split('<TEXT>')[1].split('</TEXT>')[0]\n",
    "                \n",
    "                s = rem_stop_words(s)\n",
    "                s = rem_punctions(s)\n",
    "                s = lemma(s)\n",
    "                \n",
    "                tokens=word_tokenize(s)\n",
    "                for token in tokens:\n",
    "                    if token in inverted_index.keys():\n",
    "                        inverted_index[token].append(filename)\n",
    "                    else:\n",
    "                        inverted_index[token]=[filename]\n",
    "\n",
    "    for key in inverted_index.keys():\n",
    "        inverted_index[key].sort()\n",
    "        inverted_index[key] = modify_list(inverted_index[key])\n",
    "        \n",
    "    return inverted_index"
   ]
  },
  {
   "cell_type": "code",
   "execution_count": 12,
   "id": "a81f8a00",
   "metadata": {},
   "outputs": [],
   "source": [
    "inverted_index = get_inverted_index()"
   ]
  },
  {
   "cell_type": "code",
   "execution_count": 13,
   "id": "7ed193ca",
   "metadata": {},
   "outputs": [],
   "source": [
    "os.chdir(PATH)\n",
    "dbfile = open('model_queries_11.pth', 'wb')\n",
    "pickle.dump(inverted_index, dbfile)                     \n",
    "dbfile.close()"
   ]
  },
  {
   "cell_type": "code",
   "execution_count": 26,
   "id": "2d7ed06f",
   "metadata": {},
   "outputs": [
    {
     "data": {
      "text/plain": [
       "<function BufferedReader.close>"
      ]
     },
     "execution_count": 26,
     "metadata": {},
     "output_type": "execute_result"
    }
   ],
   "source": [
    "os.chdir(PATH)\n",
    "dbfile = open('model_queries_11.pth', 'rb')     \n",
    "newdict = pickle.load(dbfile)\n",
    "dbfile.close"
   ]
  },
  {
   "cell_type": "code",
   "execution_count": 27,
   "id": "85a50822",
   "metadata": {},
   "outputs": [],
   "source": [
    "from bs4 import BeautifulSoup\n",
    "os.chdir(PATH_DATA)\n",
    "\n",
    "with open(\"raw_query.txt\", \"rb\") as f:\n",
    "    data = f.read().decode(\"UTF-8\")"
   ]
  },
  {
   "cell_type": "code",
   "execution_count": 28,
   "id": "514d89f3",
   "metadata": {},
   "outputs": [],
   "source": [
    "def parse(title):\n",
    "    title=rem_stop_words(title)\n",
    "    title=rem_punctions(title)\n",
    "    title=lemma(title)\n",
    "    filtered_list = title.split(\" \")\n",
    "    return filtered_list"
   ]
  },
  {
   "cell_type": "code",
   "execution_count": 29,
   "id": "7ccfd113",
   "metadata": {},
   "outputs": [],
   "source": [
    "soup = BeautifulSoup(data, 'html.parser')\n",
    "query_dic = {}\n",
    "for topic in soup.topics:\n",
    "    try:\n",
    "        title = topic.title.text\n",
    "        query_dic[(topic.num.text)] = parse(title)\n",
    "    except:\n",
    "        pass"
   ]
  },
  {
   "cell_type": "code",
   "execution_count": 30,
   "id": "7102412e",
   "metadata": {},
   "outputs": [],
   "source": [
    "with open(\"queries_13.txt\", \"w\") as text_file:\n",
    "    for key in query_dic:\n",
    "        res = \" \".join(str(x) for x in query_dic[key])\n",
    "        text_file.write(key + \",\" + res + \"\\n\")"
   ]
  },
  {
   "cell_type": "code",
   "execution_count": 31,
   "id": "4b6dfbbf",
   "metadata": {},
   "outputs": [],
   "source": [
    "## 1C"
   ]
  },
  {
   "cell_type": "code",
   "execution_count": 32,
   "id": "f08fc9b2",
   "metadata": {},
   "outputs": [],
   "source": [
    "with open(\"queries_13.txt\", \"rb\") as f:\n",
    "    query_data = f.read().decode(\"UTF-8\")"
   ]
  },
  {
   "cell_type": "code",
   "execution_count": 33,
   "id": "b4d1fd14",
   "metadata": {},
   "outputs": [],
   "source": [
    "query_ = query_data.split(\"\\n\")"
   ]
  },
  {
   "cell_type": "code",
   "execution_count": 34,
   "id": "2a435f87",
   "metadata": {},
   "outputs": [],
   "source": [
    "parsed_query_dic = {}\n",
    "for line in query_:\n",
    "    query_full = line.split(\",\")\n",
    "    if len(query_full) > 1:\n",
    "        try:\n",
    "            diff_words = query_full[1].split(\" \")\n",
    "        except:\n",
    "            pass\n",
    "        parsed_query_dic[query_full[0]] = diff_words"
   ]
  },
  {
   "cell_type": "code",
   "execution_count": 35,
   "id": "7cf80076",
   "metadata": {},
   "outputs": [],
   "source": [
    "def merge_list(list1, list2):\n",
    "        \n",
    "    n, m = len(list1), len(list2)\n",
    "    i, j = 0, 0\n",
    "    res = []\n",
    "\n",
    "    while i < n and j < m:\n",
    "        if list1[i] == list2[j]:\n",
    "            res.append(list1[i])\n",
    "            i += 1\n",
    "            j += 1\n",
    "        elif list1[i] < list2[j]:\n",
    "            i += 1\n",
    "        else:\n",
    "            j += 1\n",
    "    return res"
   ]
  },
  {
   "cell_type": "code",
   "execution_count": 36,
   "id": "4c9e82b7",
   "metadata": {},
   "outputs": [],
   "source": [
    "def get_list(token, newdict):\n",
    "    curr = []\n",
    "    try:\n",
    "        curr = newdict[token]\n",
    "    except:\n",
    "        pass\n",
    "    res = []\n",
    "    for val in curr:\n",
    "        res.append(val[0])\n",
    "    return res"
   ]
  },
  {
   "cell_type": "code",
   "execution_count": 37,
   "id": "1edd4c32",
   "metadata": {},
   "outputs": [],
   "source": [
    "def get_results(parsed_query, inverted_index):\n",
    "    \n",
    "    '''\n",
    "    INPUT: parsed_query_dic: dictionaries having quiries\n",
    "           inverted_index: retrivied from pth file\n",
    "    OUTPUT: result: dictionary containing result\n",
    "    '''\n",
    "    result = {}\n",
    "    for key in parsed_query.keys():\n",
    "        query = parsed_query[key]\n",
    "        tokens = []\n",
    "\n",
    "        for token in query:\n",
    "            curr = get_list(token, inverted_index)\n",
    "            tokens.append((len(curr), token))\n",
    "        tokens.sort()\n",
    "        res = get_list(tokens[0][1], inverted_index)\n",
    "\n",
    "        for token_ in tokens:\n",
    "            token = token_[1]\n",
    "            curr = get_list(token, inverted_index)\n",
    "            res = merge_list(res, curr)\n",
    "        result[key] = res\n",
    "    return result"
   ]
  },
  {
   "cell_type": "code",
   "execution_count": 38,
   "id": "11f92dd7",
   "metadata": {},
   "outputs": [],
   "source": [
    "result_dic = get_results(parsed_query_dic, newdict)"
   ]
  },
  {
   "cell_type": "code",
   "execution_count": 39,
   "id": "09a5fa35",
   "metadata": {},
   "outputs": [],
   "source": [
    "with open(\"PAT1_13_results.txt\", \"w\") as text_file:\n",
    "    for key in result_dic:\n",
    "        res = \" \".join(str(x) for x in result_dic[key])\n",
    "        text_file.write(key + \":\" + res + \"\\n\")"
   ]
  },
  {
   "cell_type": "code",
   "execution_count": null,
   "id": "5e476a3e",
   "metadata": {},
   "outputs": [],
   "source": []
  }
 ],
 "metadata": {
  "kernelspec": {
   "display_name": "Python 3",
   "language": "python",
   "name": "python3"
  },
  "language_info": {
   "codemirror_mode": {
    "name": "ipython",
    "version": 3
   },
   "file_extension": ".py",
   "mimetype": "text/x-python",
   "name": "python",
   "nbconvert_exporter": "python",
   "pygments_lexer": "ipython3",
   "version": "3.8.8"
  }
 },
 "nbformat": 4,
 "nbformat_minor": 5
}
